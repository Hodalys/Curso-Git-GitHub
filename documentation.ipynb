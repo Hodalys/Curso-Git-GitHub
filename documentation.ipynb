{
 "cells": [
  {
   "cell_type": "markdown",
   "metadata": {},
   "source": [
    "# Curso de Git y GitHub\n",
    "### ¿Qué es Git?\n",
    "Git es una herramienta de control de versiones, permite trabajar con el código de una manera segura. \n",
    "### ¿Qué es GitHub?\n",
    "GitHub es una plataforma basada en la web que utiliza Git para facilitar la colaboración en proyectos de software. "
   ]
  },
  {
   "cell_type": "markdown",
   "metadata": {},
   "source": [
    "Al iniciar Git, es necesario configurar un nombre de usuario y un correo electrónico, ya que esto será útil en el proceso de revisión del código.\n",
    "\n",
    "git config --global user.name \"name\"  # Configura el nombre de usuario  \n",
    "git config --global user.email \"name.@gmail.com\"  # Configura el correo electrónico  "
   ]
  },
  {
   "cell_type": "markdown",
   "metadata": {},
   "source": [
    "**Creación de una rama principal y archivos**\n",
    "- touch prueba.py  # Crea un nuevo archivo llamado prueba.py  \n",
    "- git init  # Inicializa un nuevo repositorio Git  \n",
    "- git branch -m main  # Cambia el nombre de la rama principal a 'main'  \n",
    "- git status  # Muestra el estado actual de los ficheros"
   ]
  },
  {
   "cell_type": "markdown",
   "metadata": {},
   "source": [
    "**Añadir Archivos y Realizar Commits**\n",
    "- git add prueba.py  # Añade el archivo prueba.py al área de preparación\n",
    "- git commit -m \"Este es mi primer commit\"  # Realiza un commit con un mensaje"
   ]
  },
  {
   "cell_type": "markdown",
   "metadata": {},
   "source": [
    "**Historial de Commits**\n",
    "- git log  # Muestra el historial de commits\n",
    "- git log --graph  # Muestra el historial de commits en forma gráfica\n",
    "- git log --graph --pretty=oneline  # Muestra el historial de commits en una línea\n",
    "- git log --graph --decorate --all --oneline  # Muestra todos los commits decorados en una línea"
   ]
  },
  {
   "cell_type": "markdown",
   "metadata": {},
   "source": [
    "**Crear Alias para Comandos**\n",
    "- git config --global alias.tree \"log --graph --decorate --all --oneline\"  # Crea un alias para visualizar el historial\n",
    "- git tree  # Usa el alias para ver el historial\n"
   ]
  },
  {
   "cell_type": "markdown",
   "metadata": {},
   "source": [
    "**Ignorar archivos y comparar cambios**\n",
    "- touch .gitignore  # Crea un archivo .gitignore\n",
    "- git add .gitignore  # Añade .gitignore al área de preparación\n",
    "- git diff  # Muestra las diferencias entre el estado actual y el último commit"
   ]
  },
  {
   "cell_type": "markdown",
   "metadata": {},
   "source": [
    "**Navegación entre Commits**\n",
    "- git checkout <commit_id>  # Permite moverse a un commit específico\n",
    "- git reset  # Regresa al último commit, manteniendo los cambios en el área de preparación\n",
    "- git reset --hard <commit_id>  # Regresa a un commit específico y descarta todos los cambios posteriores"
   ]
  },
  {
   "cell_type": "markdown",
   "metadata": {},
   "source": [
    "**Reflog y Etiquetas**\n",
    "- git reflog  # Muestra un registro de todas las acciones realizadas en el repositorio\n",
    "- git tag clase_1  # Crea una etiqueta en el commit actual"
   ]
  },
  {
   "cell_type": "markdown",
   "metadata": {},
   "source": [
    "**Stash**\n",
    "- git stash  # Guarda los cambios actuales de manera temporal\n",
    "- git stash pop  # Recupera los cambios guardados en el stash\n",
    "- git stash drop  # Elimina el último stash"
   ]
  },
  {
   "cell_type": "markdown",
   "metadata": {},
   "source": [
    "**Conexión con GitHub y clonación**\n",
    "- git remote add origin <url_del_repositorio_formato_https>     # Conecta el repositorio local con GitHub\n",
    "- git push -u origin main     # Sube los cambios de la rama 'main' a GitHub\n",
    "- git fetch                   # Descarga el historial de cambios sin aplicar cambios locales\n",
    "- git pull origin main        # Descarga y aplica los cambios desde GitHub\n",
    "- git clone <url_del_repositorio_formato_ssh>       # Clona un repositorio de GitHub"
   ]
  },
  {
   "cell_type": "markdown",
   "metadata": {},
   "source": [
    "**Pull Requests y Git Flow**\n",
    "- git-flow init  # Inicializa Git Flow en el repositorio\n",
    "- git flow feature start <feature_name>  # Inicia una nueva característica\n",
    "- git flow feature finish <feature_name>  # Finaliza una característica"
   ]
  },
  {
   "cell_type": "markdown",
   "metadata": {},
   "source": [
    "### Comandos avanzados\n",
    "**Cherry-Pick**\n",
    "- git cherry-pick <commit_id>  # Aplica un commit específico a la rama actual\n",
    "- git cherry-pick --abort  # Cancela la operación de cherry-pick si hay conflictos"
   ]
  }
 ],
 "metadata": {
  "language_info": {
   "name": "python"
  }
 },
 "nbformat": 4,
 "nbformat_minor": 2
}
